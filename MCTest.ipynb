{
 "metadata": {
  "name": "MCTest"
 },
 "nbformat": 3,
 "nbformat_minor": 0,
 "worksheets": [
  {
   "cells": [
    {
     "cell_type": "code",
     "collapsed": false,
     "input": [
      "%pylab inline"
     ],
     "language": "python",
     "metadata": {},
     "outputs": [
      {
       "output_type": "stream",
       "stream": "stdout",
       "text": [
        "\n",
        "Welcome to pylab, a matplotlib-based Python environment [backend: module://IPython.zmq.pylab.backend_inline].\n",
        "For more information, type 'help(pylab)'.\n"
       ]
      }
     ],
     "prompt_number": 1
    },
    {
     "cell_type": "code",
     "collapsed": false,
     "input": [
      "import mc_sim as mc\n",
      "from imp import reload"
     ],
     "language": "python",
     "metadata": {},
     "outputs": [],
     "prompt_number": 3
    },
    {
     "cell_type": "code",
     "collapsed": false,
     "input": [
      "panel_pos = genfromtxt('lpanel_pos', skip_header=1)"
     ],
     "language": "python",
     "metadata": {},
     "outputs": [],
     "prompt_number": 4
    },
    {
     "cell_type": "heading",
     "level": 1,
     "metadata": {},
     "source": [
      "Verification against Existing Simulation"
     ]
    },
    {
     "cell_type": "code",
     "collapsed": false,
     "input": [
      "reload(mc)"
     ],
     "language": "python",
     "metadata": {},
     "outputs": [
      {
       "output_type": "pyout",
       "prompt_number": 76,
       "text": [
        "<module 'mc_sim' from './mc_sim.py'>"
       ]
      }
     ],
     "prompt_number": 76
    },
    {
     "cell_type": "code",
     "collapsed": false,
     "input": [
      "mcres = mc.get_counts(panel_pos)\n",
      "mcres"
     ],
     "language": "python",
     "metadata": {},
     "outputs": [
      {
       "output_type": "pyout",
       "prompt_number": 72,
       "text": [
        "{'counts': array([ 367080.,  163355.,   54585.,   17778.,    6822.,    2843.]),\n",
        " 'theta_avg': array([ 0.18292077,  0.58608024,  0.83815071,  1.00771935,  1.11573436,\n",
        "        1.19303781]),\n",
        " 'theta_stdev': array([ 0.11086379,  0.05026515,  0.02995494,  0.01847505,  0.01234628,\n",
        "        0.00866366])}"
       ]
      }
     ],
     "prompt_number": 72
    },
    {
     "cell_type": "code",
     "collapsed": false,
     "input": [
      "mcres2 = mc.get_counts(panel_pos, panel_ht=124.5)\n",
      "mcres2"
     ],
     "language": "python",
     "metadata": {},
     "outputs": [
      {
       "output_type": "pyout",
       "prompt_number": 74,
       "text": [
        "{'counts': array([ 361625.,  162339.,   55255.,   18100.,    6859.,    2913.]),\n",
        " 'theta_avg': array([ 0.18217484,  0.5825359 ,  0.8343372 ,  1.00440125,  1.11243832,\n",
        "        1.19021763]),\n",
        " 'theta_stdev': array([ 0.11024447,  0.05009582,  0.02984091,  0.01855048,  0.01240824,\n",
        "        0.00887266])}"
       ]
      }
     ],
     "prompt_number": 74
    },
    {
     "cell_type": "code",
     "collapsed": false,
     "input": [
      "cpp_data = genfromtxt('sim_data.csv', delimiter=',', skip_header=1)\n",
      "cpp_counts = cpp_data[:,5]"
     ],
     "language": "python",
     "metadata": {},
     "outputs": [],
     "prompt_number": 67
    },
    {
     "cell_type": "code",
     "collapsed": false,
     "input": [
      "(mcres['counts'] - cpp_counts) / sqrt(cpp_counts)"
     ],
     "language": "python",
     "metadata": {},
     "outputs": [
      {
       "output_type": "pyout",
       "prompt_number": 73,
       "text": [
        "array([ 9.72164533,  1.14469758, -0.88006066, -1.98761753,  0.49789411,\n",
        "       -1.0032739 ])"
       ]
      }
     ],
     "prompt_number": 73
    },
    {
     "cell_type": "code",
     "collapsed": false,
     "input": [
      "(mcres2['counts'] - cpp_counts) / sqrt(cpp_counts)"
     ],
     "language": "python",
     "metadata": {},
     "outputs": [
      {
       "output_type": "pyout",
       "prompt_number": 75,
       "text": [
        "array([ 0.64555851, -1.37264602,  1.98227255,  0.40943432,  0.94721318,\n",
        "        0.29726634])"
       ]
      }
     ],
     "prompt_number": 75
    },
    {
     "cell_type": "code",
     "collapsed": false,
     "input": [
      "mcres['theta_avg']*180/pi"
     ],
     "language": "python",
     "metadata": {},
     "outputs": [
      {
       "output_type": "pyout",
       "prompt_number": 19,
       "text": [
        "array([  4.37189466,  32.50243424,  47.6432563 ,  57.59532423,\n",
        "        63.87819307,  68.34439971])"
       ]
      }
     ],
     "prompt_number": 19
    },
    {
     "cell_type": "code",
     "collapsed": false,
     "input": [
      "arctan(panel_pos / 123.5)*180/pi"
     ],
     "language": "python",
     "metadata": {},
     "outputs": [
      {
       "output_type": "pyout",
       "prompt_number": 21,
       "text": [
        "array([  0.        ,  32.60607617,  47.75778066,  57.6525565 ,\n",
        "        63.89147924,  68.34167069])"
       ]
      }
     ],
     "prompt_number": 21
    },
    {
     "cell_type": "code",
     "collapsed": false,
     "input": [
      "unif_dist = mc.mk_cosk_dist(0, pi/2)\n",
      "mcres = mc.get_counts(panel_pos, dist=unif_dist)\n",
      "mcres"
     ],
     "language": "python",
     "metadata": {},
     "outputs": [
      {
       "output_type": "stream",
       "stream": "stdout",
       "text": [
        "Using 9766 blocks of size 1024 (end: 640)\n",
        "At position 0.0, 11 hits\n",
        "At position 79.0, 5 hits\n",
        "At position 136.0, 5 hits\n",
        "At position 195.0, 2 hits\n",
        "At position 252.0, 2 hits\n",
        "At position 311.0, 0 hits\n"
       ]
      },
      {
       "output_type": "pyout",
       "prompt_number": 60,
       "text": [
        "{'counts': array([ 129099.,   78554.,   40566.,   20765.,   11629.,    6994.]),\n",
        " 'theta_avg': array([ 0.18923564,  0.5893975 ,  0.84013933,  1.0089131 ,  1.11631997,\n",
        "        1.19354552]),\n",
        " 'theta_stdev': array([ 0.11383938,  0.05073847,  0.02985183,  0.01844019,  0.01245675,\n",
        "        0.00875255])}"
       ]
      }
     ],
     "prompt_number": 60
    },
    {
     "cell_type": "code",
     "collapsed": false,
     "input": [
      "mcres_lgblk = mc.get_counts(panel_pos, dist=unif_dist, blksize=1E6)\n",
      "mcres_lgblk"
     ],
     "language": "python",
     "metadata": {},
     "outputs": [
      {
       "output_type": "stream",
       "stream": "stdout",
       "text": [
        "Using 10 blocks of size 1000000 (end: 1000000)\n",
        "At position 0.0, 12829 hits"
       ]
      },
      {
       "output_type": "stream",
       "stream": "stdout",
       "text": [
        "\n",
        "At position 79.0, 8002 hits\n",
        "At position 136.0, 4057 hits"
       ]
      },
      {
       "output_type": "stream",
       "stream": "stdout",
       "text": [
        "\n",
        "At position 195.0, 2094 hits\n",
        "At position 252.0, 1141 hits\n",
        "At position 311.0, 721 hits"
       ]
      },
      {
       "output_type": "stream",
       "stream": "stdout",
       "text": [
        "\n"
       ]
      },
      {
       "output_type": "pyout",
       "prompt_number": 61,
       "text": [
        "{'counts': array([ 127857.,   79116.,   40842.,   20992.,   11720.,    7030.]),\n",
        " 'theta_avg': array([ 0.18859764,  0.58971075,  0.84042792,  1.00899086,  1.11632072,\n",
        "        1.19345653]),\n",
        " 'theta_stdev': array([ 0.11369813,  0.05056107,  0.02985658,  0.01843945,  0.01230025,\n",
        "        0.00871462])}"
       ]
      }
     ],
     "prompt_number": 61
    },
    {
     "cell_type": "code",
     "collapsed": false,
     "input": [
      "(mcres['counts'] - mcres_lgblk['counts']) / sqrt(mcres['counts'])"
     ],
     "language": "python",
     "metadata": {},
     "outputs": [
      {
       "output_type": "pyout",
       "prompt_number": 46,
       "text": [
        "array([-1.32197883,  0.05201523,  2.02998754,  1.97246164,  0.50774467,\n",
        "       -0.50813409])"
       ]
      }
     ],
     "prompt_number": 46
    },
    {
     "cell_type": "heading",
     "level": 1,
     "metadata": {},
     "source": [
      "Determination of Optimal Blocksize"
     ]
    },
    {
     "cell_type": "code",
     "collapsed": false,
     "input": [
      "%timeit mc.get_counts(panel_pos, blksize=1E5)"
     ],
     "language": "python",
     "metadata": {},
     "outputs": [
      {
       "output_type": "stream",
       "stream": "stdout",
       "text": [
        "1 loops, best of 3: 11.3 s per loop\n"
       ]
      }
     ],
     "prompt_number": 79
    },
    {
     "cell_type": "code",
     "collapsed": false,
     "input": [
      "%timeit mc.get_counts(panel_pos, blksize=1E6)"
     ],
     "language": "python",
     "metadata": {},
     "outputs": [
      {
       "output_type": "stream",
       "stream": "stdout",
       "text": [
        "1 loops, best of 3: 11.2 s per loop\n"
       ]
      }
     ],
     "prompt_number": 77
    },
    {
     "cell_type": "code",
     "collapsed": false,
     "input": [
      "2**20"
     ],
     "language": "python",
     "metadata": {},
     "outputs": [
      {
       "output_type": "pyout",
       "prompt_number": 81,
       "text": [
        "1048576"
       ]
      }
     ],
     "prompt_number": 81
    },
    {
     "cell_type": "code",
     "collapsed": false,
     "input": [
      "%timeit mc.get_counts(panel_pos, blksize=2**20)"
     ],
     "language": "python",
     "metadata": {},
     "outputs": [
      {
       "output_type": "stream",
       "stream": "stdout",
       "text": [
        "1 loops, best of 3: 11.7 s per loop\n"
       ]
      }
     ],
     "prompt_number": 82
    },
    {
     "cell_type": "code",
     "collapsed": false,
     "input": [
      "%timeit mc.get_counts(panel_pos, blksize=1E7)"
     ],
     "language": "python",
     "metadata": {},
     "outputs": [
      {
       "output_type": "stream",
       "stream": "stdout",
       "text": [
        "1 loops, best of 3: 11.7 s per loop\n"
       ]
      }
     ],
     "prompt_number": 80
    },
    {
     "cell_type": "heading",
     "level": 1,
     "metadata": {},
     "source": [
      "Verification of Distributions"
     ]
    },
    {
     "cell_type": "code",
     "collapsed": false,
     "input": [
      "u_th = random_sample(1E7)\n",
      "u_ph = random_sample(1E7)\n",
      "(theta, phi) = unif_dist(u_th, u_ph)"
     ],
     "language": "python",
     "metadata": {},
     "outputs": [],
     "prompt_number": 48
    },
    {
     "cell_type": "code",
     "collapsed": false,
     "input": [
      "hist(u_th,20)"
     ],
     "language": "python",
     "metadata": {},
     "outputs": [
      {
       "output_type": "pyout",
       "prompt_number": 51,
       "text": [
        "(array([500948, 499849, 500426, 499609, 499448, 499600, 500156, 499186,\n",
        "       499697, 500138, 499477, 500470, 500853, 500072, 500009, 499086,\n",
        "       499835, 500880, 499462, 500799]),\n",
        " array([  8.85916400e-08,   5.00000819e-02,   1.00000075e-01,\n",
        "         1.50000068e-01,   2.00000062e-01,   2.50000055e-01,\n",
        "         3.00000048e-01,   3.50000042e-01,   4.00000035e-01,\n",
        "         4.50000028e-01,   5.00000022e-01,   5.50000015e-01,\n",
        "         6.00000008e-01,   6.50000001e-01,   6.99999995e-01,\n",
        "         7.49999988e-01,   7.99999981e-01,   8.49999975e-01,\n",
        "         8.99999968e-01,   9.49999961e-01,   9.99999954e-01]),\n",
        " <a list of 20 Patch objects>)"
       ]
      },
      {
       "output_type": "display_data",
       "png": "[encoded data removed]"
      }
     ],
     "prompt_number": 51
    },
    {
     "cell_type": "code",
     "collapsed": false,
     "input": [
      "hist(u_ph, 20)"
     ],
     "language": "python",
     "metadata": {},
     "outputs": [
      {
       "output_type": "pyout",
       "prompt_number": 50,
       "text": [
        "(array([500654, 500451, 500326, 499273, 500017, 500370, 499862, 499844,\n",
        "       499424, 500425, 499588, 500064, 499748, 500288, 499746, 500135,\n",
        "       500286, 499702, 499917, 499880]),\n",
        " array([  4.89465161e-08,   5.00000331e-02,   1.00000017e-01,\n",
        "         1.50000001e-01,   1.99999986e-01,   2.49999970e-01,\n",
        "         2.99999954e-01,   3.49999938e-01,   3.99999922e-01,\n",
        "         4.49999907e-01,   4.99999891e-01,   5.49999875e-01,\n",
        "         5.99999859e-01,   6.49999843e-01,   6.99999827e-01,\n",
        "         7.49999812e-01,   7.99999796e-01,   8.49999780e-01,\n",
        "         8.99999764e-01,   9.49999748e-01,   9.99999732e-01]),\n",
        " <a list of 20 Patch objects>)"
       ]
      },
      {
       "output_type": "display_data",
       "png": "[encoded data removed]"
      }
     ],
     "prompt_number": 50
    },
    {
     "cell_type": "code",
     "collapsed": false,
     "input": [
      "hist(phi, 20)"
     ],
     "language": "python",
     "metadata": {},
     "outputs": [
      {
       "output_type": "pyout",
       "prompt_number": 52,
       "text": [
        "(array([500654, 500451, 500326, 499273, 500017, 500370, 499862, 499844,\n",
        "       499424, 500425, 499588, 500064, 499748, 500288, 499746, 500135,\n",
        "       500286, 499702, 499917, 499880]),\n",
        " array([  7.79007998e-09,   7.95775243e-03,   1.59154971e-02,\n",
        "         2.38732417e-02,   3.18309863e-02,   3.97887310e-02,\n",
        "         4.77464756e-02,   5.57042202e-02,   6.36619649e-02,\n",
        "         7.16197095e-02,   7.95774542e-02,   8.75351988e-02,\n",
        "         9.54929434e-02,   1.03450688e-01,   1.11408433e-01,\n",
        "         1.19366177e-01,   1.27323922e-01,   1.35281667e-01,\n",
        "         1.43239411e-01,   1.51197156e-01,   1.59154901e-01]),\n",
        " <a list of 20 Patch objects>)"
       ]
      },
      {
       "output_type": "display_data",
       "png": "[encoded data removed]"
      }
     ],
     "prompt_number": 52
    },
    {
     "cell_type": "code",
     "collapsed": false,
     "input": [
      "(freqs, bins, img) = hist(theta, 20)\n",
      "ideal = sin(bins)  * max(freqs)\n",
      "plot(bins, ideal, 'r-')"
     ],
     "language": "python",
     "metadata": {},
     "outputs": [
      {
       "output_type": "pyout",
       "prompt_number": 57,
       "text": [
        "[<matplotlib.lines.Line2D at 0x7f7214d178d0>]"
       ]
      },
      {
       "output_type": "display_data",
       "png": "[encoded data removed]"
      }
     ],
     "prompt_number": 57
    },
    {
     "cell_type": "code",
     "collapsed": false,
     "input": [],
     "language": "python",
     "metadata": {},
     "outputs": []
    }
   ],
   "metadata": {}
  }
 ]
}